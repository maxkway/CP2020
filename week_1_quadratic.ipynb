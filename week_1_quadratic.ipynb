{
 "cells": [
  {
   "cell_type": "markdown",
   "metadata": {},
   "source": [
    "## Решите квадратное уравнение, $x^2 + b x + c = 0$.\n",
    "\n",
    "\n",
    "Напишите функцию, получающую $b$ и $c$, коэффициенты квадратичного полинома $x^2 + b x + c$, и возвращающую пару корней уравнения. Ваша функция должна всегда возвращать два корня, даже когда решение вырождено.\n",
    "\n",
    "Например, дано квадратное уравнение $x^2 - 2x + 1$, ваша функция должна возвращать $(1, 1)$. Конечно, ответы могут отличаться ошибкой, связанной с ошибкой округления.\n",
    "\n",
    "Также, ваша функция должна корректно выдавать комплексные решения (для этого вам может понадобиться модуль `cmath` из стандартной библиотеки)."
   ]
  },
  {
   "cell_type": "code",
   "execution_count": 1,
   "metadata": {
    "collapsed": true
   },
   "outputs": [],
   "source": [
    "def solve_quad(b, c):\n",
    "    \"\"\"Решает квадратное уравнение, x**2 + bx + c = 0.\n",
    "    \n",
    "    Parameteres\n",
    "    ----------\n",
    "    b, c : float\n",
    "       Коэффициенты\n",
    "       \n",
    "    Returns\n",
    "    -------\n",
    "    x1, x2 : float or complex\n",
    "       Корни.\n",
    "    \"\"\"\n",
    "    # ... enter your code here ..."
   ]
  },
  {
   "cell_type": "markdown",
   "metadata": {},
   "source": [
    "Проверьте работу алгоритма на нескольких примерах в сравнении с решением, полученным \"руками\". Когда вы убедитесь, что ваша функция работает, попробуйте следующие 5 примеров.\n",
    "\n",
    "Заметьте, что два последних теста специальны: они проверяют, насколько ваш алгоритм устойчив к экстремальным значениям, когда слишком наивный подход может привести к накоплению катастрофической ошибки. Убедитесь, что пройдены все пять тестов.\n",
    "\n",
    "Данной задание также оценивается, за каждый пройденный тест вы получаете 20% оценки."
   ]
  },
  {
   "cell_type": "code",
   "execution_count": null,
   "metadata": {
    "collapsed": true
   },
   "outputs": [],
   "source": [
    "from numpy import allclose"
   ]
  },
  {
   "cell_type": "code",
   "execution_count": null,
   "metadata": {
    "collapsed": true
   },
   "outputs": [],
   "source": [
    "variants = [{'b': 4.0, 'c': 3.0},\n",
    "            {'b': 2.0, 'c': 1.0},\n",
    "            {'b': 0.5, 'c': 4.0},\n",
    "            {'b': 1e10, 'c': 3.0},\n",
    "            {'b': -1e10, 'c': 4.0},]"
   ]
  },
  {
   "cell_type": "code",
   "execution_count": null,
   "metadata": {
    "collapsed": true
   },
   "outputs": [],
   "source": [
    "for var in variants:\n",
    "    x1, x2 = solve_quad(**var)\n",
    "    print(allclose(x1*x2, var['c']))"
   ]
  },
  {
   "cell_type": "code",
   "execution_count": null,
   "metadata": {
    "collapsed": true
   },
   "outputs": [],
   "source": []
  }
 ],
 "metadata": {
  "kernelspec": {
   "display_name": "Python 3",
   "language": "python",
   "name": "python3"
  },
  "language_info": {
   "codemirror_mode": {
    "name": "ipython",
    "version": 3
   },
   "file_extension": ".py",
   "mimetype": "text/x-python",
   "name": "python",
   "nbconvert_exporter": "python",
   "pygments_lexer": "ipython3",
   "version": "3.7.1"
  }
 },
 "nbformat": 4,
 "nbformat_minor": 2
}
